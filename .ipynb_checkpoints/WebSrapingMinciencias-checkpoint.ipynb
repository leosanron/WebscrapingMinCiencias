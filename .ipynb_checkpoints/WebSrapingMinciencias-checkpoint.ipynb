{
 "cells": [
  {
   "cell_type": "code",
   "execution_count": 1,
   "id": "9fba24b3",
   "metadata": {},
   "outputs": [],
   "source": [
    "#Web Scraping y filtro para Minciencias"
   ]
  },
  {
   "cell_type": "code",
   "execution_count": 2,
   "id": "a0248f3c",
   "metadata": {},
   "outputs": [
    {
     "name": "stdout",
     "output_type": "stream",
     "text": [
      "Requirement already satisfied: openpyxl in c:\\users\\57314\\anaconda3\\lib\\site-packages (3.0.7)Note: you may need to restart the kernel to use updated packages.\n"
     ]
    },
    {
     "name": "stderr",
     "output_type": "stream",
     "text": [
      "WARNING: You are using pip version 21.1.3; however, version 22.3.1 is available.\n",
      "You should consider upgrading via the 'C:\\Users\\57314\\anaconda3\\python.exe -m pip install --upgrade pip' command.\n"
     ]
    },
    {
     "name": "stdout",
     "output_type": "stream",
     "text": [
      "\n",
      "Requirement already satisfied: et-xmlfile in c:\\users\\57314\\anaconda3\\lib\\site-packages (from openpyxl) (1.0.1)\n"
     ]
    }
   ],
   "source": [
    "pip install openpyxl"
   ]
  },
  {
   "cell_type": "code",
   "execution_count": 3,
   "id": "ac9ebee7",
   "metadata": {},
   "outputs": [],
   "source": [
    "from bs4 import BeautifulSoup\n",
    "import pandas as pd\n",
    "from scrapy.selector import Selector\n",
    "import requests\n",
    "from bs4 import BeautifulSoup\n",
    "import warnings\n"
   ]
  },
  {
   "cell_type": "code",
   "execution_count": 4,
   "id": "e02dbeaa",
   "metadata": {},
   "outputs": [],
   "source": [
    "dfgrupos = pd.read_excel(\"BD SALUD AMBIENTAL.xlsx\", sheet_name='Sheet1', engine='openpyxl')\n",
    "tamaño_dfgrupos =dfgrupos.shape\n",
    "url= dfgrupos[\"LINKS \"]"
   ]
  },
  {
   "cell_type": "code",
   "execution_count": 5,
   "id": "f25547b1",
   "metadata": {},
   "outputs": [
    {
     "data": {
      "text/plain": [
       "0     https://scienti.minciencias.gov.co/gruplac/jsp...\n",
       "1     https://scienti.minciencias.gov.co/gruplac/jsp...\n",
       "2     https://scienti.minciencias.gov.co/gruplac/jsp...\n",
       "3     https://scienti.minciencias.gov.co/gruplac/jsp...\n",
       "4     https://scienti.minciencias.gov.co/gruplac/jsp...\n",
       "5     https://scienti.minciencias.gov.co/gruplac/jsp...\n",
       "6     https://scienti.minciencias.gov.co/gruplac/jsp...\n",
       "7     https://scienti.minciencias.gov.co/gruplac/jsp...\n",
       "8     https://scienti.minciencias.gov.co/gruplac/jsp...\n",
       "9     https://scienti.minciencias.gov.co/gruplac/jsp...\n",
       "10    https://scienti.minciencias.gov.co/gruplac/jsp...\n",
       "11    https://scienti.minciencias.gov.co/gruplac/jsp...\n",
       "12    https://scienti.minciencias.gov.co/gruplac/jsp...\n",
       "13    https://scienti.minciencias.gov.co/gruplac/jsp...\n",
       "14    https://scienti.minciencias.gov.co/gruplac/jsp...\n",
       "15    https://scienti.minciencias.gov.co/gruplac/jsp...\n",
       "16    https://scienti.minciencias.gov.co/gruplac/jsp...\n",
       "17    https://scienti.minciencias.gov.co/gruplac/jsp...\n",
       "18    https://scienti.minciencias.gov.co/gruplac/jsp...\n",
       "19    https://scienti.minciencias.gov.co/gruplac/jsp...\n",
       "20    https://scienti.minciencias.gov.co/gruplac/jsp...\n",
       "21    https://scienti.minciencias.gov.co/gruplac/jsp...\n",
       "22    https://scienti.minciencias.gov.co/gruplac/jsp...\n",
       "23    https://scienti.minciencias.gov.co/gruplac/jsp...\n",
       "24    https://scienti.minciencias.gov.co/gruplac/jsp...\n",
       "25    https://scienti.minciencias.gov.co/gruplac/jsp...\n",
       "26    https://scienti.minciencias.gov.co/gruplac/jsp...\n",
       "Name: LINKS , dtype: object"
      ]
     },
     "execution_count": 5,
     "metadata": {},
     "output_type": "execute_result"
    }
   ],
   "source": []
  },
  {
   "cell_type": "code",
   "execution_count": null,
   "id": "6223cba8",
   "metadata": {},
   "outputs": [],
   "source": []
  }
 ],
 "metadata": {
  "kernelspec": {
   "display_name": "Python 3",
   "language": "python",
   "name": "python3"
  },
  "language_info": {
   "codemirror_mode": {
    "name": "ipython",
    "version": 3
   },
   "file_extension": ".py",
   "mimetype": "text/x-python",
   "name": "python",
   "nbconvert_exporter": "python",
   "pygments_lexer": "ipython3",
   "version": "3.8.8"
  }
 },
 "nbformat": 4,
 "nbformat_minor": 5
}

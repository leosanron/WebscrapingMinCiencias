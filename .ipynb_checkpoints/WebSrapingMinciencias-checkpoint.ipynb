{
 "cells": [
  {
   "cell_type": "code",
   "execution_count": 1,
   "id": "9fba24b3",
   "metadata": {},
   "outputs": [],
   "source": [
    "#Web Scraping y filtro para Minciencias"
   ]
  },
  {
   "cell_type": "code",
   "execution_count": 2,
   "id": "a0248f3c",
   "metadata": {},
   "outputs": [
    {
     "name": "stdout",
     "output_type": "stream",
     "text": [
      "Requirement already satisfied: openpyxl in c:\\users\\57314\\anaconda3\\lib\\site-packages (3.0.7)Note: you may need to restart the kernel to use updated packages.\n"
     ]
    },
    {
     "name": "stderr",
     "output_type": "stream",
     "text": [
      "WARNING: You are using pip version 21.1.3; however, version 22.3.1 is available.\n",
      "You should consider upgrading via the 'C:\\Users\\57314\\anaconda3\\python.exe -m pip install --upgrade pip' command.\n"
     ]
    },
    {
     "name": "stdout",
     "output_type": "stream",
     "text": [
      "\n",
      "Requirement already satisfied: et-xmlfile in c:\\users\\57314\\anaconda3\\lib\\site-packages (from openpyxl) (1.0.1)\n"
     ]
    }
   ],
   "source": [
    "#pip install openpyxl"
   ]
  },
  {
   "cell_type": "code",
   "execution_count": 8,
   "id": "ac9ebee7",
   "metadata": {},
   "outputs": [],
   "source": [
    "from bs4 import BeautifulSoup\n",
    "import pandas as pd\n",
    "from scrapy.selector import Selector\n",
    "import requests\n",
    "from bs4 import BeautifulSoup\n",
    "import warnings\n"
   ]
  },
  {
   "cell_type": "code",
   "execution_count": 9,
   "id": "e02dbeaa",
   "metadata": {},
   "outputs": [],
   "source": [
    "dfgrupos = pd.read_excel(\"BD SALUD AMBIENTAL.xlsx\", sheet_name='Sheet1', engine='openpyxl')\n",
    "tamaño_dfgrupos =dfgrupos.shape\n",
    "url= dfgrupos[\"LINKS \"]"
   ]
  },
  {
   "cell_type": "code",
   "execution_count": null,
   "id": "6223cba8",
   "metadata": {},
   "outputs": [],
   "source": [
    "palabras_filtro = \"salud ambiental\" #para varias palabras separar por |   , ejemplo... palabras_filtro = \"SIWGACE|SISGEDOCNO\"\n",
    "#DEFINITIVOOO\n",
    "dfcon = pd.DataFrame()\n",
    "for i in range (0,tamaño_dfgrupos [0]): \n",
    "    url = dfgrupos[\"LINKS \"][i]\n",
    "    r = requests.get(url, verify=False)\n",
    "    soup = BeautifulSoup(r.text, 'lxml')\n",
    "    NomGrupo = soup.find(\"span\", class_='celdaEncabezado')\n",
    "    NombreGrupo = NomGrupo.text\n",
    "    #Filtrar todas las tablas\n",
    "    table = soup.find_all('table')\n",
    "    df = pd.read_html(str(table))\n",
    "    #Numero de de tablas \n",
    "    NumTablas = len(df)\n",
    "    #CICLO \n",
    "    dfcon1 = pd.DataFrame()\n",
    "    dfcon1[\"Index\"] = [i]\n",
    "    dfcon1[\"Nombre del Grupo\"] = [NombreGrupo]\n",
    "    #Tabla numero 0, datos basicos, que es diferente \n",
    "    #Tabla de datos \n",
    "    df = pd.read_html(str(table))[0]\n",
    "    #Imputacion de los NAN\n",
    "    df= df.fillna('Sin dato')\n",
    "    #Tabla 1 \n",
    "    tamaño = df.shape\n",
    "    Nombre = df[0][0]\n",
    "    Dato = []\n",
    "    for j in range(1,tamaño[0]):\n",
    "        Dato.append(df[0][j]+\":  \"+df[1][j]+\"... \")\n",
    "    Datos = \" \".join(Dato)\n",
    "    Datos\n",
    "    dfcon1[Nombre]= [Datos]\n",
    "    # Siguientes Tablas 1-5\n",
    "    for i in range (1,6):\n",
    "        df = pd.read_html(str(table))[i]\n",
    "        tamaño = df.shape\n",
    "        Nombre = df[0][0]\n",
    "        Datos = []\n",
    "        for j in range(1,tamaño[0]):\n",
    "            Datos.append(df[0][j])\n",
    "        Datos = \" \".join(Datos)\n",
    "        dfcon1[Nombre]= [Datos] \n",
    "    # Siguientes Tablas 6-12\n",
    "    for i in range (6,13):\n",
    "        df = pd.read_html(str(table))[i]\n",
    "        tamaño = df.shape\n",
    "        Nombre = df[0][0]\n",
    "        df_filtrado = df[df[0].str.contains(palabras_filtro,case=False)] \n",
    "        Datos = []\n",
    "        for j in range(0,tamaño[0]):\n",
    "            try:\n",
    "                Datos.append(df_filtrado[0][j])\n",
    "            except:\n",
    "                pass\n",
    "        Datos = \" \".join(Datos) \n",
    "        dfcon1[Nombre]= [Datos] \n",
    "    #Tabla 13 -44\n",
    "    for i in range (13,45):\n",
    "        df = pd.read_html(str(table))[i]\n",
    "        tamaño = df.shape\n",
    "        Nombre = df[0][0]\n",
    "        Datos = []\n",
    "        for j in range(1,tamaño[0]):\n",
    "            try:\n",
    "                df_filtrado = df[df[1].str.contains(palabras_filtro,case=False)]               \n",
    "                Datos.append(df_filtrado[1][j])\n",
    "            except:\n",
    "                pass\n",
    "        Datos = \" \".join(Datos)\n",
    "        dfcon1[Nombre]= [Datos]\n",
    "    #Table 45 - 46\n",
    "    for i in range (45,47):\n",
    "        df = pd.read_html(str(table))[i]\n",
    "        tamaño = df.shape\n",
    "        Nombre = df[0][0]\n",
    "        Datos = []\n",
    "        for j in range(1,tamaño[0]-1):\n",
    "            df_filtrado = df[df[1].str.contains(palabras_filtro,case=False)]\n",
    "            Datos.append(df[1][j])\n",
    "        Datos = \" \".join(Datos)\n",
    "        dfcon1[Nombre]= [Datos]\n",
    "    #Tabla 47 - 84 \n",
    "    for i in range (47,84):\n",
    "        df = pd.read_html(str(table))[i]\n",
    "        tamaño = df.shape\n",
    "        Nombre = df[0][0]\n",
    "        Datos = []\n",
    "        for j in range(1,tamaño[0]-1):\n",
    "            try:\n",
    "                df_filtrado = df[df[1].str.contains(palabras_filtro,case=False)] #Case = false para que no importen mayusculas\n",
    "                Datos.append(df_filtrado[1][j])\n",
    "            except:\n",
    "                pass\n",
    "        Datos = \" \".join(Datos)\n",
    "        dfcon1[Nombre]= [Datos] \n",
    "    dfcon = pd.concat([dfcon, dfcon1])\n",
    "dfcon = dfcon.set_index(\"Index\")\n",
    "dfcon"
   ]
  },
  {
   "cell_type": "code",
   "execution_count": null,
   "id": "d2be0141",
   "metadata": {},
   "outputs": [],
   "source": [
    "x = 1\n",
    "x"
   ]
  },
  {
   "cell_type": "code",
   "execution_count": null,
   "id": "b4fff400",
   "metadata": {},
   "outputs": [],
   "source": []
  }
 ],
 "metadata": {
  "kernelspec": {
   "display_name": "Python 3",
   "language": "python",
   "name": "python3"
  }
 },
 "nbformat": 4,
 "nbformat_minor": 5
}

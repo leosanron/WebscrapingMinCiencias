{
 "cells": [
  {
   "cell_type": "code",
   "execution_count": 1,
   "id": "9fba24b3",
   "metadata": {},
   "outputs": [],
   "source": [
    "#Web Scraping y filtro para Minciencias"
   ]
  },
  {
   "cell_type": "code",
   "execution_count": 2,
   "id": "a0248f3c",
   "metadata": {},
   "outputs": [
    {
     "name": "stdout",
     "output_type": "stream",
     "text": [
      "Requirement already satisfied: openpyxl in c:\\users\\57314\\anaconda3\\lib\\site-packages (3.0.7)Note: you may need to restart the kernel to use updated packages.\n"
     ]
    },
    {
     "name": "stderr",
     "output_type": "stream",
     "text": [
      "WARNING: You are using pip version 21.1.3; however, version 22.3.1 is available.\n",
      "You should consider upgrading via the 'C:\\Users\\57314\\anaconda3\\python.exe -m pip install --upgrade pip' command.\n"
     ]
    },
    {
     "name": "stdout",
     "output_type": "stream",
     "text": [
      "\n",
      "Requirement already satisfied: et-xmlfile in c:\\users\\57314\\anaconda3\\lib\\site-packages (from openpyxl) (1.0.1)\n"
     ]
    }
   ],
   "source": [
    "#pip install openpyxl"
   ]
  },
  {
   "cell_type": "code",
   "execution_count": 8,
   "id": "ac9ebee7",
   "metadata": {},
   "outputs": [],
   "source": [
    "from bs4 import BeautifulSoup\n",
    "import pandas as pd\n",
    "from scrapy.selector import Selector\n",
    "import requests\n",
    "from bs4 import BeautifulSoup\n",
    "import warnings\n"
   ]
  },
  {
   "cell_type": "code",
   "execution_count": 9,
   "id": "e02dbeaa",
   "metadata": {},
   "outputs": [],
   "source": [
    "dfgrupos = pd.read_excel(\"BD SALUD AMBIENTAL.xlsx\", sheet_name='Sheet1', engine='openpyxl')\n",
    "tamaño_dfgrupos =dfgrupos.shape\n",
    "url= dfgrupos[\"LINKS \"]"
   ]
  },
  {
   "cell_type": "code",
   "execution_count": null,
   "id": "6223cba8",
   "metadata": {},
   "outputs": [],
   "source": [
    "palabras_filtro = \"salud ambiental\" #para varias palabras separar por |   , ejemplo... palabras_filtro = \"SIWGACE|SISGEDOCNO\"\n",
    "#DEFINITIVOOO\n",
    "dfcon = pd.DataFrame()\n",
    "for i in range (0,tamaño_dfgrupos [0]): \n",
    "    url = dfgrupos[\"LINKS \"][i]\n",
    "    r = requests.get(url, verify=False)\n",
    "    soup = BeautifulSoup(r.text, 'lxml')\n",
    "    NomGrupo = soup.find(\"span\", class_='celdaEncabezado')\n",
    "    NombreGrupo = NomGrupo.text\n",
    "    #Filtrar todas las tablas\n",
    "    table = soup.find_all('table')\n",
    "    df = pd.read_html(str(table))\n",
    "    #Numero de de tablas \n",
    "    NumTablas = len(df)\n",
    "    #CICLO \n",
    "    dfcon1 = pd.DataFrame()\n",
    "    dfcon1[\"Index\"] = [i]\n",
    "    dfcon1[\"Nombre del Grupo\"] = [NombreGrupo]\n",
    "    #Tabla numero 0, datos basicos, que es diferente \n",
    "    #Tabla de datos \n",
    "    df = pd.read_html(str(table))[0]\n",
    "    #Imputacion de los NAN\n",
    "    df= df.fillna('Sin dato')\n",
    "    #Tabla 1 \n",
    "    tamaño = df.shape\n",
    "    Nombre = df[0][0]\n",
    "    Dato = []\n",
    "    for j in range(1,tamaño[0]):\n",
    "        Dato.append(df[0][j]+\":  \"+df[1][j]+\"... \")\n",
    "    Datos = \" \".join(Dato)\n",
    "    Datos\n",
    "    dfcon1[Nombre]= [Datos]\n",
    "    # Siguientes Tablas 1-5\n",
    "    for i in range (1,6):\n",
    "        df = pd.read_html(str(table))[i]\n",
    "        tamaño = df.shape\n",
    "        Nombre = df[0][0]\n",
    "        Datos = []\n",
    "        for j in range(1,tamaño[0]):\n",
    "            Datos.append(df[0][j])\n",
    "        Datos = \" \".join(Datos)\n",
    "        dfcon1[Nombre]= [Datos] \n",
    "    # Siguientes Tablas 6-12\n",
    "    for i in range (6,13):\n",
    "        df = pd.read_html(str(table))[i]\n",
    "        tamaño = df.shape\n",
    "        Nombre = df[0][0]\n",
    "        df_filtrado = df[df[0].str.contains(palabras_filtro,case=False)] \n",
    "        Datos = []\n",
    "        for j in range(0,tamaño[0]):\n",
    "            try:\n",
    "                Datos.append(df_filtrado[0][j])\n",
    "            except:\n",
    "                pass\n",
    "        Datos = \" \".join(Datos) \n",
    "        dfcon1[Nombre]= [Datos] \n",
    "    #Tabla 13 -44\n",
    "    for i in range (13,45):\n",
    "        df = pd.read_html(str(table))[i]\n",
    "        tamaño = df.shape\n",
    "        Nombre = df[0][0]\n",
    "        Datos = []\n",
    "        for j in range(1,tamaño[0]):\n",
    "            try:\n",
    "                df_filtrado = df[df[1].str.contains(palabras_filtro,case=False)]               \n",
    "                Datos.append(df_filtrado[1][j])\n",
    "            except:\n",
    "                pass\n",
    "        Datos = \" \".join(Datos)\n",
    "        dfcon1[Nombre]= [Datos]\n",
    "    #Table 45 - 46\n",
    "    for i in range (45,47):\n",
    "        df = pd.read_html(str(table))[i]\n",
    "        tamaño = df.shape\n",
    "        Nombre = df[0][0]\n",
    "        Datos = []\n",
    "        for j in range(1,tamaño[0]-1):\n",
    "            df_filtrado = df[df[1].str.contains(palabras_filtro,case=False)]\n",
    "            Datos.append(df[1][j])\n",
    "        Datos = \" \".join(Datos)\n",
    "        dfcon1[Nombre]= [Datos]\n",
    "    #Tabla 47 - 84 \n",
    "    for i in range (47,84):\n",
    "        df = pd.read_html(str(table))[i]\n",
    "        tamaño = df.shape\n",
    "        Nombre = df[0][0]\n",
    "        Datos = []\n",
    "        for j in range(1,tamaño[0]-1):\n",
    "            try:\n",
    "                df_filtrado = df[df[1].str.contains(palabras_filtro,case=False)] #Case = false para que no importen mayusculas\n",
    "                Datos.append(df_filtrado[1][j])\n",
    "            except:\n",
    "                pass\n",
    "        Datos = \" \".join(Datos)\n",
    "        dfcon1[Nombre]= [Datos] \n",
    "    dfcon = pd.concat([dfcon, dfcon1])\n",
    "dfcon = dfcon.set_index(\"Index\")\n",
    "dfcon"
   ]
  },
  {
   "cell_type": "code",
   "execution_count": null,
   "id": "d2be0141",
   "metadata": {},
   "outputs": [],
   "source": [
    "DatosBasicos.to_excel(\"DatosBasicos.xlsx\")"
   ]
  },
  {
   "cell_type": "code",
   "execution_count": null,
   "id": "b4fff400",
   "metadata": {},
   "outputs": [],
   "source": [
    "#leer el DataFrame e imprimir cada columna como una tabla nueva"
   ]
  },
  {
   "cell_type": "code",
   "execution_count": null,
   "id": "7564c3a9",
   "metadata": {},
   "outputs": [],
   "source": [
    "##Eliminar los sin dato y los vacios (:  -)\n",
    "\n",
    "#Crear tabla de datos basicos\n",
    "DatosBasicos = pd.DataFrame(columns=['Nombre del Grupo','Datos básicos'])\n",
    "for j in range(0,df.shape[0]):\n",
    "    dfDatosBasidos = pd.DataFrame(columns=['Nombre del Grupo','Datos básicos'])\n",
    "    ListaDatosBasicos = df[\"Datos básicos\"][j].split(\"... \")\n",
    "    for i in range (0,len(ListaDatosBasicos)-1):\n",
    "        if i == 0:\n",
    "            dfDatosBasidos.loc[len(dfDatosBasidos)] = [df[\"Nombre del Grupo\"][j], ListaDatosBasicos[i]]\n",
    "        else:\n",
    "            dfDatosBasidos.loc[len(dfDatosBasidos)] = [\"\", ListaDatosBasicos[i]]\n",
    "    #REMOVER LAS FILAS QUE NO SIRVEN \n",
    "    v1 = dfDatosBasidos.iloc[:, 1].str.contains(\"sin dato\",case=False)\n",
    "    v2 = dfDatosBasidos.iloc[:, 1].str.contains(\":  -\",case=False)\n",
    "    for i in range (0,len(ListaDatosBasicos)-1):\n",
    "        if (v1[i] == True) or (v2[i] == True):\n",
    "            dfDatosBasidos = dfDatosBasidos.drop([i],axis=0)\n",
    "    DatosBasicos = pd.concat([DatosBasicos, dfDatosBasidos])\n",
    "DatosBasicos.to_excel(\"DatosBasicos.xlsx\")\n",
    "DatosBasicos"
   ]
  },
  {
   "cell_type": "code",
   "execution_count": null,
   "id": "6e1d7e91",
   "metadata": {},
   "outputs": [],
   "source": [
    "# Crear tabla de informacion de los grupos \n",
    "DatosGrupo = df.iloc[:,0:6].drop([\"Datos básicos\"],axis=1)\n",
    "DatosGrupo.to_excel(\"DatosGrupo.xlsx\")\n",
    "DatosGrupo"
   ]
  },
  {
   "cell_type": "raw",
   "id": "fd463cb8",
   "metadata": {},
   "source": [
    "# Crear todas las tablas en archivos diferentes. \n",
    "\n",
    "df1 = df.set_index(\"Nombre del Grupo\")\n",
    "for i in range(5,84):\n",
    "    try:\n",
    "        NombreColumna = df1.columns[i]\n",
    "        Nombre = str(i)+' '+NombreColumna+\".xlsx\"\n",
    "        dfsin_nan = df1[NombreColumna].dropna()\n",
    "        try:\n",
    "            if type(dfsin_nan[0]) != str():\n",
    "                dfsin_nan.to_excel(Nombre)\n",
    "        except:\n",
    "            pass\n",
    "    except:\n",
    "        pass"
   ]
  },
  {
   "cell_type": "code",
   "execution_count": null,
   "id": "fdeee41d",
   "metadata": {},
   "outputs": [],
   "source": []
  }
 ],
 "metadata": {
  "kernelspec": {
   "display_name": "Python 3",
   "language": "python",
   "name": "python3"
  }
 },
 "nbformat": 4,
 "nbformat_minor": 5
}
